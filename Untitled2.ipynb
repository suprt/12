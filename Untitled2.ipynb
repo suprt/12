{
  "nbformat": 4,
  "nbformat_minor": 0,
  "metadata": {
    "colab": {
      "provenance": [],
      "authorship_tag": "ABX9TyOs6C2v8H8ZD41VMXGkUi07",
      "include_colab_link": true
    },
    "kernelspec": {
      "name": "python3",
      "display_name": "Python 3"
    },
    "language_info": {
      "name": "python"
    }
  },
  "cells": [
    {
      "cell_type": "markdown",
      "metadata": {
        "id": "view-in-github",
        "colab_type": "text"
      },
      "source": [
        "<a href=\"https://colab.research.google.com/github/suprt/12/blob/master/Untitled2.ipynb\" target=\"_parent\"><img src=\"https://colab.research.google.com/assets/colab-badge.svg\" alt=\"Open In Colab\"/></a>"
      ]
    },
    {
      "cell_type": "code",
      "execution_count": 29,
      "metadata": {
        "colab": {
          "base_uri": "https://localhost:8080/"
        },
        "id": "yMkHWKoOQM7b",
        "outputId": "a2a59b8e-ac7b-41f9-8005-673298de1b76"
      },
      "outputs": [
        {
          "output_type": "stream",
          "name": "stdout",
          "text": [
            "4\n",
            "1000000000\n"
          ]
        }
      ],
      "source": [
        "x=[1, 5, 1234, 56, 10**9, 5] #инициализация массива\n",
        "max1=-10**30\n",
        "for i in range(0,len(x),1):\n",
        "  if(max1<x[i]):\n",
        "    max1=x[i]\n",
        "    k=i\n",
        "print(k)\n",
        "print(x[k])\n"
      ]
    },
    {
      "cell_type": "code",
      "source": [
        "x=[9, 3, 2, 90, 6, 7, 8] #инициализация массива\n",
        "n=len(x)\n",
        "for i in range (0,n-1,1):\n",
        "  for j in range(i+1,n,1):\n",
        "    if(x[i]>x[j]):\n",
        "      b=x[i]\n",
        "      x[i]=x[j]\n",
        "      x[j]=b\n",
        "print(x)"
      ],
      "metadata": {
        "colab": {
          "base_uri": "https://localhost:8080/"
        },
        "id": "LJxoTZLmQONR",
        "outputId": "bafff535-9dd5-4f1a-e152-eaae59d53146"
      },
      "execution_count": 30,
      "outputs": [
        {
          "output_type": "stream",
          "name": "stdout",
          "text": [
            "[2, 3, 6, 7, 8, 9, 90]\n"
          ]
        }
      ]
    }
  ]
}